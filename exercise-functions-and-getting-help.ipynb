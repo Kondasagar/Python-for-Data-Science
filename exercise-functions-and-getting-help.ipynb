{
 "cells": [
  {
   "cell_type": "markdown",
   "id": "83e2eb99",
   "metadata": {
    "papermill": {
     "duration": 0.007691,
     "end_time": "2022-08-28T08:52:00.468446",
     "exception": false,
     "start_time": "2022-08-28T08:52:00.460755",
     "status": "completed"
    },
    "tags": []
   },
   "source": [
    "**This notebook is an exercise in the [Python](https://www.kaggle.com/learn/python) course.  You can reference the tutorial at [this link](https://www.kaggle.com/colinmorris/functions-and-getting-help).**\n",
    "\n",
    "---\n"
   ]
  },
  {
   "cell_type": "markdown",
   "id": "4e97ffc6",
   "metadata": {
    "papermill": {
     "duration": 0.005023,
     "end_time": "2022-08-28T08:52:00.480984",
     "exception": false,
     "start_time": "2022-08-28T08:52:00.475961",
     "status": "completed"
    },
    "tags": []
   },
   "source": [
    "Functions are powerful. Try writing some yourself.\n",
    "\n",
    "As before, don't forget to run the setup code below before jumping into question 1."
   ]
  },
  {
   "cell_type": "code",
   "execution_count": 1,
   "id": "5adcb8fb",
   "metadata": {
    "_kg_hide-input": true,
    "_kg_hide-output": true,
    "execution": {
     "iopub.execute_input": "2022-08-28T08:52:00.494189Z",
     "iopub.status.busy": "2022-08-28T08:52:00.493198Z",
     "iopub.status.idle": "2022-08-28T08:52:00.560220Z",
     "shell.execute_reply": "2022-08-28T08:52:00.558308Z"
    },
    "papermill": {
     "duration": 0.077428,
     "end_time": "2022-08-28T08:52:00.563507",
     "exception": false,
     "start_time": "2022-08-28T08:52:00.486079",
     "status": "completed"
    },
    "tags": []
   },
   "outputs": [
    {
     "name": "stdout",
     "output_type": "stream",
     "text": [
      "Setup complete.\n"
     ]
    }
   ],
   "source": [
    "# SETUP. You don't need to worry for now about what this code does or how it works.\n",
    "from learntools.core import binder; binder.bind(globals())\n",
    "from learntools.python.ex2 import *\n",
    "print('Setup complete.')"
   ]
  },
  {
   "cell_type": "markdown",
   "id": "7abc4f12",
   "metadata": {
    "papermill": {
     "duration": 0.005332,
     "end_time": "2022-08-28T08:52:00.574101",
     "exception": false,
     "start_time": "2022-08-28T08:52:00.568769",
     "status": "completed"
    },
    "tags": []
   },
   "source": [
    "# 1.\n",
    "\n",
    "Complete the body of the following function according to its docstring.\n",
    "\n",
    "HINT: Python has a built-in function `round`."
   ]
  },
  {
   "cell_type": "code",
   "execution_count": 2,
   "id": "7613ea08",
   "metadata": {
    "execution": {
     "iopub.execute_input": "2022-08-28T08:52:00.587723Z",
     "iopub.status.busy": "2022-08-28T08:52:00.586738Z",
     "iopub.status.idle": "2022-08-28T08:52:00.601000Z",
     "shell.execute_reply": "2022-08-28T08:52:00.599933Z"
    },
    "papermill": {
     "duration": 0.023494,
     "end_time": "2022-08-28T08:52:00.603306",
     "exception": false,
     "start_time": "2022-08-28T08:52:00.579812",
     "status": "completed"
    },
    "tags": []
   },
   "outputs": [
    {
     "data": {
      "application/javascript": [
       "parent.postMessage({\"jupyterEvent\": \"custom.exercise_interaction\", \"data\": {\"outcomeType\": 1, \"valueTowardsCompletion\": 0.16666666666666666, \"interactionType\": 1, \"questionType\": 2, \"questionId\": \"1_RoundFunctionProblem\", \"learnToolsVersion\": \"0.3.4\", \"failureMessage\": \"\", \"exceptionClass\": \"\", \"trace\": \"\"}}, \"*\")"
      ],
      "text/plain": [
       "<IPython.core.display.Javascript object>"
      ]
     },
     "metadata": {},
     "output_type": "display_data"
    },
    {
     "data": {
      "text/markdown": [
       "<span style=\"color:#33cc33\">Correct</span>"
      ],
      "text/plain": [
       "Correct"
      ]
     },
     "metadata": {},
     "output_type": "display_data"
    }
   ],
   "source": [
    "def round_to_two_places(num):\n",
    "    \"\"\"Return the given number rounded to two decimal places. \n",
    "    \n",
    "    >>> round_to_two_places(3.14159)\n",
    "    3.14\n",
    "    \"\"\"\n",
    "    # Replace this body with your own code.\n",
    "    return round(num,2)\n",
    "    # (\"pass\" is a keyword that does literally nothing. We used it as a placeholder\n",
    "    # because after we begin a code block, Python requires at least one line of code)\n",
    "    pass\n",
    "\n",
    "# Check your answer\n",
    "q1.check()"
   ]
  },
  {
   "cell_type": "code",
   "execution_count": 3,
   "id": "1256cc4f",
   "metadata": {
    "execution": {
     "iopub.execute_input": "2022-08-28T08:52:00.616209Z",
     "iopub.status.busy": "2022-08-28T08:52:00.615414Z",
     "iopub.status.idle": "2022-08-28T08:52:00.624662Z",
     "shell.execute_reply": "2022-08-28T08:52:00.623600Z"
    },
    "papermill": {
     "duration": 0.018126,
     "end_time": "2022-08-28T08:52:00.626785",
     "exception": false,
     "start_time": "2022-08-28T08:52:00.608659",
     "status": "completed"
    },
    "tags": []
   },
   "outputs": [
    {
     "data": {
      "application/javascript": [
       "parent.postMessage({\"jupyterEvent\": \"custom.exercise_interaction\", \"data\": {\"interactionType\": 3, \"questionType\": 2, \"questionId\": \"1_RoundFunctionProblem\", \"learnToolsVersion\": \"0.3.4\", \"valueTowardsCompletion\": 0.0, \"failureMessage\": \"\", \"exceptionClass\": \"\", \"trace\": \"\", \"outcomeType\": 4}}, \"*\")"
      ],
      "text/plain": [
       "<IPython.core.display.Javascript object>"
      ]
     },
     "metadata": {},
     "output_type": "display_data"
    },
    {
     "data": {
      "text/markdown": [
       "<span style=\"color:#33cc99\">Solution:</span> \n",
       "```python\n",
       "return round(num, 2)\n",
       "```"
      ],
      "text/plain": [
       "Solution: \n",
       "```python\n",
       "return round(num, 2)\n",
       "```"
      ]
     },
     "metadata": {},
     "output_type": "display_data"
    }
   ],
   "source": [
    "# Uncomment the following for a hint\n",
    "#q1.hint()\n",
    "# Or uncomment the following to peek at the solution\n",
    "q1.solution()"
   ]
  },
  {
   "cell_type": "markdown",
   "id": "f01421b0",
   "metadata": {
    "papermill": {
     "duration": 0.005267,
     "end_time": "2022-08-28T08:52:00.637684",
     "exception": false,
     "start_time": "2022-08-28T08:52:00.632417",
     "status": "completed"
    },
    "tags": []
   },
   "source": [
    "# 2.\n",
    "The help for `round` says that `ndigits` (the second argument) may be negative.\n",
    "What do you think will happen when it is? Try some examples in the following cell."
   ]
  },
  {
   "cell_type": "code",
   "execution_count": 4,
   "id": "1855f83f",
   "metadata": {
    "execution": {
     "iopub.execute_input": "2022-08-28T08:52:00.656291Z",
     "iopub.status.busy": "2022-08-28T08:52:00.655437Z",
     "iopub.status.idle": "2022-08-28T08:52:00.665317Z",
     "shell.execute_reply": "2022-08-28T08:52:00.664204Z"
    },
    "papermill": {
     "duration": 0.024479,
     "end_time": "2022-08-28T08:52:00.667529",
     "exception": false,
     "start_time": "2022-08-28T08:52:00.643050",
     "status": "completed"
    },
    "tags": []
   },
   "outputs": [
    {
     "data": {
      "application/javascript": [
       "parent.postMessage({\"jupyterEvent\": \"custom.exercise_interaction\", \"data\": {\"outcomeType\": 1, \"valueTowardsCompletion\": 0.16666666666666666, \"interactionType\": 1, \"questionType\": 4, \"questionId\": \"2_RoundNdigitsProblem\", \"learnToolsVersion\": \"0.3.4\", \"failureMessage\": \"\", \"exceptionClass\": \"\", \"trace\": \"\"}}, \"*\")"
      ],
      "text/plain": [
       "<IPython.core.display.Javascript object>"
      ]
     },
     "metadata": {},
     "output_type": "display_data"
    },
    {
     "data": {
      "text/markdown": [
       "<span style=\"color:#33cc33\">Correct:</span> \n",
       "\n",
       "As you've seen, `ndigits=-1` rounds to the nearest 10, `ndigits=-2` rounds to the nearest 100 and so on. Where might this be useful? Suppose we're dealing with large numbers:\n",
       "\n",
       "> The area of Finland is 338,424 km²  \n",
       "> The area of Greenland is 2,166,086 km²\n",
       "\n",
       "We probably don't care whether it's really 338,424, or 338,425, or 338,177. All those digits of accuracy are just distracting. We can chop them off by calling `round()` with `ndigits=-3`:\n",
       "\n",
       "> The area of Finland is 338,000 km²  \n",
       "> The area of Greenland is 2,166,000 km²\n",
       "\n",
       "(We'll talk about how we would get the commas later when we talk about string formatting :))\n"
      ],
      "text/plain": [
       "Correct: \n",
       "\n",
       "As you've seen, `ndigits=-1` rounds to the nearest 10, `ndigits=-2` rounds to the nearest 100 and so on. Where might this be useful? Suppose we're dealing with large numbers:\n",
       "\n",
       "> The area of Finland is 338,424 km²  \n",
       "> The area of Greenland is 2,166,086 km²\n",
       "\n",
       "We probably don't care whether it's really 338,424, or 338,425, or 338,177. All those digits of accuracy are just distracting. We can chop them off by calling `round()` with `ndigits=-3`:\n",
       "\n",
       "> The area of Finland is 338,000 km²  \n",
       "> The area of Greenland is 2,166,000 km²\n",
       "\n",
       "(We'll talk about how we would get the commas later when we talk about string formatting :))"
      ]
     },
     "metadata": {},
     "output_type": "display_data"
    }
   ],
   "source": [
    "# Put your test code here\n",
    "round(3454,-3)\n",
    "q2.check()"
   ]
  },
  {
   "cell_type": "markdown",
   "id": "b006a908",
   "metadata": {
    "papermill": {
     "duration": 0.005645,
     "end_time": "2022-08-28T08:52:00.679342",
     "exception": false,
     "start_time": "2022-08-28T08:52:00.673697",
     "status": "completed"
    },
    "tags": []
   },
   "source": [
    "Can you think of a case where this would be useful?  Once you're ready, run the code cell below to see the answer and to receive credit for completing the problem."
   ]
  },
  {
   "cell_type": "code",
   "execution_count": 5,
   "id": "21f2f009",
   "metadata": {
    "execution": {
     "iopub.execute_input": "2022-08-28T08:52:00.693990Z",
     "iopub.status.busy": "2022-08-28T08:52:00.693119Z",
     "iopub.status.idle": "2022-08-28T08:52:00.702462Z",
     "shell.execute_reply": "2022-08-28T08:52:00.701383Z"
    },
    "papermill": {
     "duration": 0.019179,
     "end_time": "2022-08-28T08:52:00.704712",
     "exception": false,
     "start_time": "2022-08-28T08:52:00.685533",
     "status": "completed"
    },
    "tags": []
   },
   "outputs": [
    {
     "data": {
      "application/javascript": [
       "parent.postMessage({\"jupyterEvent\": \"custom.exercise_interaction\", \"data\": {\"interactionType\": 3, \"questionType\": 4, \"questionId\": \"2_RoundNdigitsProblem\", \"learnToolsVersion\": \"0.3.4\", \"valueTowardsCompletion\": 0.0, \"failureMessage\": \"\", \"exceptionClass\": \"\", \"trace\": \"\", \"outcomeType\": 4}}, \"*\")"
      ],
      "text/plain": [
       "<IPython.core.display.Javascript object>"
      ]
     },
     "metadata": {},
     "output_type": "display_data"
    },
    {
     "data": {
      "text/markdown": [
       "<span style=\"color:#33cc99\">Solution:</span> As you've seen, `ndigits=-1` rounds to the nearest 10, `ndigits=-2` rounds to the nearest 100 and so on. Where might this be useful? Suppose we're dealing with large numbers:\n",
       "\n",
       "> The area of Finland is 338,424 km²  \n",
       "> The area of Greenland is 2,166,086 km²\n",
       "\n",
       "We probably don't care whether it's really 338,424, or 338,425, or 338,177. All those digits of accuracy are just distracting. We can chop them off by calling `round()` with `ndigits=-3`:\n",
       "\n",
       "> The area of Finland is 338,000 km²  \n",
       "> The area of Greenland is 2,166,000 km²\n",
       "\n",
       "(We'll talk about how we would get the commas later when we talk about string formatting :))\n"
      ],
      "text/plain": [
       "Solution: As you've seen, `ndigits=-1` rounds to the nearest 10, `ndigits=-2` rounds to the nearest 100 and so on. Where might this be useful? Suppose we're dealing with large numbers:\n",
       "\n",
       "> The area of Finland is 338,424 km²  \n",
       "> The area of Greenland is 2,166,086 km²\n",
       "\n",
       "We probably don't care whether it's really 338,424, or 338,425, or 338,177. All those digits of accuracy are just distracting. We can chop them off by calling `round()` with `ndigits=-3`:\n",
       "\n",
       "> The area of Finland is 338,000 km²  \n",
       "> The area of Greenland is 2,166,000 km²\n",
       "\n",
       "(We'll talk about how we would get the commas later when we talk about string formatting :))"
      ]
     },
     "metadata": {},
     "output_type": "display_data"
    }
   ],
   "source": [
    "# Check your answer (Run this code cell to receive credit!)\n",
    "q2.solution()"
   ]
  },
  {
   "cell_type": "markdown",
   "id": "90d6a3fd",
   "metadata": {
    "papermill": {
     "duration": 0.005807,
     "end_time": "2022-08-28T08:52:00.716800",
     "exception": false,
     "start_time": "2022-08-28T08:52:00.710993",
     "status": "completed"
    },
    "tags": []
   },
   "source": [
    "# 3.\n",
    "\n",
    "In the previous exercise, the candy-sharing friends Alice, Bob and Carol tried to split candies evenly. For the sake of their friendship, any candies left over would be smashed. For example, if they collectively bring home 91 candies, they'll take 30 each and smash 1.\n",
    "\n",
    "Below is a simple function that will calculate the number of candies to smash for *any* number of total candies.\n",
    "\n",
    "Modify it so that it optionally takes a second argument representing the number of friends the candies are being split between. If no second argument is provided, it should assume 3 friends, as before.\n",
    "\n",
    "Update the docstring to reflect this new behaviour."
   ]
  },
  {
   "cell_type": "code",
   "execution_count": 6,
   "id": "8b8f9b60",
   "metadata": {
    "execution": {
     "iopub.execute_input": "2022-08-28T08:52:00.731562Z",
     "iopub.status.busy": "2022-08-28T08:52:00.730584Z",
     "iopub.status.idle": "2022-08-28T08:52:00.741221Z",
     "shell.execute_reply": "2022-08-28T08:52:00.740085Z"
    },
    "papermill": {
     "duration": 0.020664,
     "end_time": "2022-08-28T08:52:00.743487",
     "exception": false,
     "start_time": "2022-08-28T08:52:00.722823",
     "status": "completed"
    },
    "tags": []
   },
   "outputs": [
    {
     "data": {
      "application/javascript": [
       "parent.postMessage({\"jupyterEvent\": \"custom.exercise_interaction\", \"data\": {\"outcomeType\": 1, \"valueTowardsCompletion\": 0.16666666666666666, \"interactionType\": 1, \"questionType\": 2, \"questionId\": \"3_CandySmashingFunctionProblem\", \"learnToolsVersion\": \"0.3.4\", \"failureMessage\": \"\", \"exceptionClass\": \"\", \"trace\": \"\"}}, \"*\")"
      ],
      "text/plain": [
       "<IPython.core.display.Javascript object>"
      ]
     },
     "metadata": {},
     "output_type": "display_data"
    },
    {
     "data": {
      "text/markdown": [
       "<span style=\"color:#33cc33\">Correct</span>"
      ],
      "text/plain": [
       "Correct"
      ]
     },
     "metadata": {},
     "output_type": "display_data"
    }
   ],
   "source": [
    "def to_smash(total_candies,n=3):\n",
    "    \"\"\"Return the number of leftover candies that must be smashed after distributing\n",
    "    the given number of candies evenly between 3 friends.\n",
    "    \n",
    "    >>> to_smash(91)\n",
    "    1\n",
    "    \"\"\"\n",
    "    return total_candies % n\n",
    "\n",
    "# Check your answer\n",
    "q3.check()"
   ]
  },
  {
   "cell_type": "code",
   "execution_count": 7,
   "id": "b3e0b423",
   "metadata": {
    "execution": {
     "iopub.execute_input": "2022-08-28T08:52:00.758610Z",
     "iopub.status.busy": "2022-08-28T08:52:00.757735Z",
     "iopub.status.idle": "2022-08-28T08:52:00.762965Z",
     "shell.execute_reply": "2022-08-28T08:52:00.761939Z"
    },
    "papermill": {
     "duration": 0.015387,
     "end_time": "2022-08-28T08:52:00.765223",
     "exception": false,
     "start_time": "2022-08-28T08:52:00.749836",
     "status": "completed"
    },
    "tags": []
   },
   "outputs": [],
   "source": [
    "#q3.hint()"
   ]
  },
  {
   "cell_type": "code",
   "execution_count": 8,
   "id": "e8523e6a",
   "metadata": {
    "execution": {
     "iopub.execute_input": "2022-08-28T08:52:00.780506Z",
     "iopub.status.busy": "2022-08-28T08:52:00.779638Z",
     "iopub.status.idle": "2022-08-28T08:52:00.788547Z",
     "shell.execute_reply": "2022-08-28T08:52:00.787674Z"
    },
    "papermill": {
     "duration": 0.019884,
     "end_time": "2022-08-28T08:52:00.791398",
     "exception": false,
     "start_time": "2022-08-28T08:52:00.771514",
     "status": "completed"
    },
    "tags": []
   },
   "outputs": [
    {
     "data": {
      "application/javascript": [
       "parent.postMessage({\"jupyterEvent\": \"custom.exercise_interaction\", \"data\": {\"interactionType\": 3, \"questionType\": 2, \"questionId\": \"3_CandySmashingFunctionProblem\", \"learnToolsVersion\": \"0.3.4\", \"valueTowardsCompletion\": 0.0, \"failureMessage\": \"\", \"exceptionClass\": \"\", \"trace\": \"\", \"outcomeType\": 4}}, \"*\")"
      ],
      "text/plain": [
       "<IPython.core.display.Javascript object>"
      ]
     },
     "metadata": {},
     "output_type": "display_data"
    },
    {
     "data": {
      "text/markdown": [
       "<span style=\"color:#33cc99\">Solution:</span> \n",
       "```python\n",
       "def to_smash(total_candies, n_friends=3):\n",
       "    return total_candies % n_friends\n",
       "```"
      ],
      "text/plain": [
       "Solution: \n",
       "```python\n",
       "def to_smash(total_candies, n_friends=3):\n",
       "    return total_candies % n_friends\n",
       "```"
      ]
     },
     "metadata": {},
     "output_type": "display_data"
    }
   ],
   "source": [
    "q3.solution()"
   ]
  },
  {
   "cell_type": "markdown",
   "id": "71791235",
   "metadata": {
    "papermill": {
     "duration": 0.006871,
     "end_time": "2022-08-28T08:52:00.806706",
     "exception": false,
     "start_time": "2022-08-28T08:52:00.799835",
     "status": "completed"
    },
    "tags": []
   },
   "source": [
    "# 4. (Optional)\n",
    "\n",
    "It may not be fun, but reading and understanding error messages will be an important part of your Python career.\n",
    "\n",
    "Each code cell below contains some commented buggy code. For each cell...\n",
    "\n",
    "1. Read the code and predict what you think will happen when it's run.\n",
    "2. Then uncomment the code and run it to see what happens. (**Tip**: In the kernel editor, you can highlight several lines and press `ctrl`+`/` to toggle commenting.)\n",
    "3. Fix the code (so that it accomplishes its intended purpose without throwing an exception)\n",
    "\n",
    "<!-- TODO: should this be autochecked? Delta is probably pretty small. -->"
   ]
  },
  {
   "cell_type": "code",
   "execution_count": 9,
   "id": "e26dc6bd",
   "metadata": {
    "execution": {
     "iopub.execute_input": "2022-08-28T08:52:00.824624Z",
     "iopub.status.busy": "2022-08-28T08:52:00.823409Z",
     "iopub.status.idle": "2022-08-28T08:52:00.832244Z",
     "shell.execute_reply": "2022-08-28T08:52:00.830915Z"
    },
    "papermill": {
     "duration": 0.019141,
     "end_time": "2022-08-28T08:52:00.834559",
     "exception": false,
     "start_time": "2022-08-28T08:52:00.815418",
     "status": "completed"
    },
    "tags": []
   },
   "outputs": [
    {
     "data": {
      "text/plain": [
       "10.0"
      ]
     },
     "execution_count": 9,
     "metadata": {},
     "output_type": "execute_result"
    }
   ],
   "source": [
    "round_to_two_places(9.9999)"
   ]
  },
  {
   "cell_type": "code",
   "execution_count": 10,
   "id": "adb3f072",
   "metadata": {
    "execution": {
     "iopub.execute_input": "2022-08-28T08:52:00.852223Z",
     "iopub.status.busy": "2022-08-28T08:52:00.851446Z",
     "iopub.status.idle": "2022-08-28T08:52:00.858802Z",
     "shell.execute_reply": "2022-08-28T08:52:00.857925Z"
    },
    "papermill": {
     "duration": 0.017836,
     "end_time": "2022-08-28T08:52:00.861118",
     "exception": false,
     "start_time": "2022-08-28T08:52:00.843282",
     "status": "completed"
    },
    "tags": []
   },
   "outputs": [
    {
     "data": {
      "text/plain": [
       "5"
      ]
     },
     "execution_count": 10,
     "metadata": {},
     "output_type": "execute_result"
    }
   ],
   "source": [
    "x = -10\n",
    "y = 5\n",
    "# Which of the two variables above has the smallest absolute value?\n",
    "smallest_abs = min(abs(x), (y))\n",
    "smallest_abs"
   ]
  },
  {
   "cell_type": "code",
   "execution_count": 11,
   "id": "8c6f6f42",
   "metadata": {
    "execution": {
     "iopub.execute_input": "2022-08-28T08:52:00.889578Z",
     "iopub.status.busy": "2022-08-28T08:52:00.887204Z",
     "iopub.status.idle": "2022-08-28T08:52:00.896832Z",
     "shell.execute_reply": "2022-08-28T08:52:00.895646Z"
    },
    "papermill": {
     "duration": 0.031576,
     "end_time": "2022-08-28T08:52:00.899574",
     "exception": false,
     "start_time": "2022-08-28T08:52:00.867998",
     "status": "completed"
    },
    "tags": []
   },
   "outputs": [
    {
     "name": "stdout",
     "output_type": "stream",
     "text": [
      "5\n"
     ]
    }
   ],
   "source": [
    "def f(x):\n",
    "    y = abs(x)\n",
    "    return y\n",
    "\n",
    "print(f(5))"
   ]
  },
  {
   "cell_type": "markdown",
   "id": "5c56f1d1",
   "metadata": {
    "papermill": {
     "duration": 0.007334,
     "end_time": "2022-08-28T08:52:00.915372",
     "exception": false,
     "start_time": "2022-08-28T08:52:00.908038",
     "status": "completed"
    },
    "tags": []
   },
   "source": [
    "# Keep Going\n",
    "\n",
    "Nice job with the code. Next up, you'll learn about *conditionals*, which you'll need to **[write interesting programs](https://www.kaggle.com/colinmorris/booleans-and-conditionals)**. "
   ]
  },
  {
   "cell_type": "markdown",
   "id": "56b84cd4",
   "metadata": {
    "papermill": {
     "duration": 0.008325,
     "end_time": "2022-08-28T08:52:00.931453",
     "exception": false,
     "start_time": "2022-08-28T08:52:00.923128",
     "status": "completed"
    },
    "tags": []
   },
   "source": [
    "---\n",
    "\n",
    "\n",
    "\n",
    "\n",
    "*Have questions or comments? Visit the [course discussion forum](https://www.kaggle.com/learn/python/discussion) to chat with other learners.*"
   ]
  }
 ],
 "metadata": {
  "kernelspec": {
   "display_name": "Python 3",
   "language": "python",
   "name": "python3"
  },
  "language_info": {
   "codemirror_mode": {
    "name": "ipython",
    "version": 3
   },
   "file_extension": ".py",
   "mimetype": "text/x-python",
   "name": "python",
   "nbconvert_exporter": "python",
   "pygments_lexer": "ipython3",
   "version": "3.7.12"
  },
  "papermill": {
   "default_parameters": {},
   "duration": 10.637075,
   "end_time": "2022-08-28T08:52:01.664082",
   "environment_variables": {},
   "exception": null,
   "input_path": "__notebook__.ipynb",
   "output_path": "__notebook__.ipynb",
   "parameters": {},
   "start_time": "2022-08-28T08:51:51.027007",
   "version": "2.3.4"
  }
 },
 "nbformat": 4,
 "nbformat_minor": 5
}
