{
 "cells": [
  {
   "cell_type": "markdown",
   "id": "762c33e9",
   "metadata": {
    "papermill": {
     "duration": 0.006354,
     "end_time": "2022-08-28T08:47:50.373310",
     "exception": false,
     "start_time": "2022-08-28T08:47:50.366956",
     "status": "completed"
    },
    "tags": []
   },
   "source": [
    "**This notebook is an exercise in the [Python](https://www.kaggle.com/learn/python) course.  You can reference the tutorial at [this link](https://www.kaggle.com/colinmorris/lists).**\n",
    "\n",
    "---\n"
   ]
  },
  {
   "cell_type": "markdown",
   "id": "eb81df6d",
   "metadata": {
    "papermill": {
     "duration": 0.004594,
     "end_time": "2022-08-28T08:47:50.383020",
     "exception": false,
     "start_time": "2022-08-28T08:47:50.378426",
     "status": "completed"
    },
    "tags": []
   },
   "source": [
    "Things get more interesting with lists. You'll apply your new knowledge to solve the questions below. Remember to run the following cell first."
   ]
  },
  {
   "cell_type": "code",
   "execution_count": 1,
   "id": "cf14242d",
   "metadata": {
    "execution": {
     "iopub.execute_input": "2022-08-28T08:47:50.395291Z",
     "iopub.status.busy": "2022-08-28T08:47:50.394272Z",
     "iopub.status.idle": "2022-08-28T08:47:50.451175Z",
     "shell.execute_reply": "2022-08-28T08:47:50.450264Z"
    },
    "papermill": {
     "duration": 0.065869,
     "end_time": "2022-08-28T08:47:50.453826",
     "exception": false,
     "start_time": "2022-08-28T08:47:50.387957",
     "status": "completed"
    },
    "tags": []
   },
   "outputs": [
    {
     "name": "stdout",
     "output_type": "stream",
     "text": [
      "Setup complete.\n"
     ]
    }
   ],
   "source": [
    "from learntools.core import binder; binder.bind(globals())\n",
    "from learntools.python.ex4 import *\n",
    "print('Setup complete.')"
   ]
  },
  {
   "cell_type": "markdown",
   "id": "1638c583",
   "metadata": {
    "papermill": {
     "duration": 0.004756,
     "end_time": "2022-08-28T08:47:50.463681",
     "exception": false,
     "start_time": "2022-08-28T08:47:50.458925",
     "status": "completed"
    },
    "tags": []
   },
   "source": [
    "# 1.\n",
    "\n",
    "Complete the function below according to its docstring."
   ]
  },
  {
   "cell_type": "code",
   "execution_count": 2,
   "id": "2da80333",
   "metadata": {
    "execution": {
     "iopub.execute_input": "2022-08-28T08:47:50.475759Z",
     "iopub.status.busy": "2022-08-28T08:47:50.475014Z",
     "iopub.status.idle": "2022-08-28T08:47:50.488253Z",
     "shell.execute_reply": "2022-08-28T08:47:50.487001Z"
    },
    "papermill": {
     "duration": 0.021947,
     "end_time": "2022-08-28T08:47:50.490657",
     "exception": false,
     "start_time": "2022-08-28T08:47:50.468710",
     "status": "completed"
    },
    "tags": []
   },
   "outputs": [
    {
     "data": {
      "application/javascript": [
       "parent.postMessage({\"jupyterEvent\": \"custom.exercise_interaction\", \"data\": {\"outcomeType\": 1, \"valueTowardsCompletion\": 0.2, \"interactionType\": 1, \"questionType\": 2, \"questionId\": \"1_SelectSecondItem\", \"learnToolsVersion\": \"0.3.4\", \"failureMessage\": \"\", \"exceptionClass\": \"\", \"trace\": \"\"}}, \"*\")"
      ],
      "text/plain": [
       "<IPython.core.display.Javascript object>"
      ]
     },
     "metadata": {},
     "output_type": "display_data"
    },
    {
     "data": {
      "text/markdown": [
       "<span style=\"color:#33cc33\">Correct</span>"
      ],
      "text/plain": [
       "Correct"
      ]
     },
     "metadata": {},
     "output_type": "display_data"
    }
   ],
   "source": [
    "def select_second(L):\n",
    "    \"\"\"Return the second element of the given list. If the list has no second\n",
    "    element, return None.\n",
    "    \"\"\"\n",
    "    try:\n",
    "        return L[1]\n",
    "    except:\n",
    "        return None\n",
    "        \n",
    "# Check your answer\n",
    "q1.check()"
   ]
  },
  {
   "cell_type": "code",
   "execution_count": 3,
   "id": "b239ab8e",
   "metadata": {
    "execution": {
     "iopub.execute_input": "2022-08-28T08:47:50.503529Z",
     "iopub.status.busy": "2022-08-28T08:47:50.502746Z",
     "iopub.status.idle": "2022-08-28T08:47:50.511950Z",
     "shell.execute_reply": "2022-08-28T08:47:50.511059Z"
    },
    "papermill": {
     "duration": 0.018225,
     "end_time": "2022-08-28T08:47:50.514190",
     "exception": false,
     "start_time": "2022-08-28T08:47:50.495965",
     "status": "completed"
    },
    "tags": []
   },
   "outputs": [
    {
     "data": {
      "application/javascript": [
       "parent.postMessage({\"jupyterEvent\": \"custom.exercise_interaction\", \"data\": {\"interactionType\": 3, \"questionType\": 2, \"questionId\": \"1_SelectSecondItem\", \"learnToolsVersion\": \"0.3.4\", \"valueTowardsCompletion\": 0.0, \"failureMessage\": \"\", \"exceptionClass\": \"\", \"trace\": \"\", \"outcomeType\": 4}}, \"*\")"
      ],
      "text/plain": [
       "<IPython.core.display.Javascript object>"
      ]
     },
     "metadata": {},
     "output_type": "display_data"
    },
    {
     "data": {
      "text/markdown": [
       "<span style=\"color:#33cc99\">Solution:</span> \n",
       "```python\n",
       "def select_second(L):\n",
       "    if len(L) < 2:\n",
       "        return None\n",
       "    return L[1]\n",
       "```"
      ],
      "text/plain": [
       "Solution: \n",
       "```python\n",
       "def select_second(L):\n",
       "    if len(L) < 2:\n",
       "        return None\n",
       "    return L[1]\n",
       "```"
      ]
     },
     "metadata": {},
     "output_type": "display_data"
    }
   ],
   "source": [
    "#q1.hint()\n",
    "q1.solution()"
   ]
  },
  {
   "cell_type": "markdown",
   "id": "d9a85d0a",
   "metadata": {
    "papermill": {
     "duration": 0.005164,
     "end_time": "2022-08-28T08:47:50.524910",
     "exception": false,
     "start_time": "2022-08-28T08:47:50.519746",
     "status": "completed"
    },
    "tags": []
   },
   "source": [
    "# 2.\n",
    "\n",
    "You are analyzing sports teams.  Members of each team are stored in a list. The Coach is the first name in the list, the captain is the second name in the list, and other players are listed after that. \n",
    "These lists are stored in another list, which starts with the best team and proceeds through the list to the worst team last.  Complete the function below to select the **captain** of the worst team."
   ]
  },
  {
   "cell_type": "code",
   "execution_count": 4,
   "id": "b0da488f",
   "metadata": {
    "execution": {
     "iopub.execute_input": "2022-08-28T08:47:50.538125Z",
     "iopub.status.busy": "2022-08-28T08:47:50.537299Z",
     "iopub.status.idle": "2022-08-28T08:47:50.547137Z",
     "shell.execute_reply": "2022-08-28T08:47:50.546266Z"
    },
    "papermill": {
     "duration": 0.018943,
     "end_time": "2022-08-28T08:47:50.549354",
     "exception": false,
     "start_time": "2022-08-28T08:47:50.530411",
     "status": "completed"
    },
    "tags": []
   },
   "outputs": [
    {
     "data": {
      "application/javascript": [
       "parent.postMessage({\"jupyterEvent\": \"custom.exercise_interaction\", \"data\": {\"outcomeType\": 1, \"valueTowardsCompletion\": 0.2, \"interactionType\": 1, \"questionType\": 2, \"questionId\": \"2_LosingTeamCaptain\", \"learnToolsVersion\": \"0.3.4\", \"failureMessage\": \"\", \"exceptionClass\": \"\", \"trace\": \"\"}}, \"*\")"
      ],
      "text/plain": [
       "<IPython.core.display.Javascript object>"
      ]
     },
     "metadata": {},
     "output_type": "display_data"
    },
    {
     "data": {
      "text/markdown": [
       "<span style=\"color:#33cc33\">Correct</span>"
      ],
      "text/plain": [
       "Correct"
      ]
     },
     "metadata": {},
     "output_type": "display_data"
    }
   ],
   "source": [
    "def losing_team_captain(teams):\n",
    "    \"\"\"Given a list of teams, where each team is a list of names, return the 2nd player (captain)\n",
    "    from the last listed team\n",
    "    \"\"\"\n",
    "    return teams[-1][1]\n",
    "\n",
    "# Check your answer\n",
    "q2.check()"
   ]
  },
  {
   "cell_type": "code",
   "execution_count": 5,
   "id": "c01dcdaf",
   "metadata": {
    "execution": {
     "iopub.execute_input": "2022-08-28T08:47:50.563064Z",
     "iopub.status.busy": "2022-08-28T08:47:50.562242Z",
     "iopub.status.idle": "2022-08-28T08:47:50.571617Z",
     "shell.execute_reply": "2022-08-28T08:47:50.570500Z"
    },
    "papermill": {
     "duration": 0.018996,
     "end_time": "2022-08-28T08:47:50.573964",
     "exception": false,
     "start_time": "2022-08-28T08:47:50.554968",
     "status": "completed"
    },
    "tags": []
   },
   "outputs": [
    {
     "data": {
      "application/javascript": [
       "parent.postMessage({\"jupyterEvent\": \"custom.exercise_interaction\", \"data\": {\"interactionType\": 3, \"questionType\": 2, \"questionId\": \"2_LosingTeamCaptain\", \"learnToolsVersion\": \"0.3.4\", \"valueTowardsCompletion\": 0.0, \"failureMessage\": \"\", \"exceptionClass\": \"\", \"trace\": \"\", \"outcomeType\": 4}}, \"*\")"
      ],
      "text/plain": [
       "<IPython.core.display.Javascript object>"
      ]
     },
     "metadata": {},
     "output_type": "display_data"
    },
    {
     "data": {
      "text/markdown": [
       "<span style=\"color:#33cc99\">Solution:</span> \n",
       "```python\n",
       "def losing_team_captain(teams):\n",
       "    return teams[-1][1]\n",
       "```"
      ],
      "text/plain": [
       "Solution: \n",
       "```python\n",
       "def losing_team_captain(teams):\n",
       "    return teams[-1][1]\n",
       "```"
      ]
     },
     "metadata": {},
     "output_type": "display_data"
    }
   ],
   "source": [
    "#q2.hint()\n",
    "q2.solution()"
   ]
  },
  {
   "cell_type": "markdown",
   "id": "98c7088a",
   "metadata": {
    "papermill": {
     "duration": 0.005591,
     "end_time": "2022-08-28T08:47:50.585523",
     "exception": false,
     "start_time": "2022-08-28T08:47:50.579932",
     "status": "completed"
    },
    "tags": []
   },
   "source": [
    "# 3.\n",
    "\n",
    "The next iteration of Mario Kart will feature an extra-infuriating new item, the *Purple Shell*. When used, it warps the last place racer into first place and the first place racer into last place. Complete the function below to implement the Purple Shell's effect."
   ]
  },
  {
   "cell_type": "code",
   "execution_count": 6,
   "id": "ca109310",
   "metadata": {
    "execution": {
     "iopub.execute_input": "2022-08-28T08:47:50.599420Z",
     "iopub.status.busy": "2022-08-28T08:47:50.599038Z",
     "iopub.status.idle": "2022-08-28T08:47:50.608637Z",
     "shell.execute_reply": "2022-08-28T08:47:50.607497Z"
    },
    "papermill": {
     "duration": 0.019275,
     "end_time": "2022-08-28T08:47:50.610922",
     "exception": false,
     "start_time": "2022-08-28T08:47:50.591647",
     "status": "completed"
    },
    "tags": []
   },
   "outputs": [
    {
     "data": {
      "application/javascript": [
       "parent.postMessage({\"jupyterEvent\": \"custom.exercise_interaction\", \"data\": {\"outcomeType\": 1, \"valueTowardsCompletion\": 0.2, \"interactionType\": 1, \"questionType\": 2, \"questionId\": \"3_PurpleShell\", \"learnToolsVersion\": \"0.3.4\", \"failureMessage\": \"\", \"exceptionClass\": \"\", \"trace\": \"\"}}, \"*\")"
      ],
      "text/plain": [
       "<IPython.core.display.Javascript object>"
      ]
     },
     "metadata": {},
     "output_type": "display_data"
    },
    {
     "data": {
      "text/markdown": [
       "<span style=\"color:#33cc33\">Correct</span>"
      ],
      "text/plain": [
       "Correct"
      ]
     },
     "metadata": {},
     "output_type": "display_data"
    }
   ],
   "source": [
    "def purple_shell(racers):\n",
    "    \"\"\"Given a list of racers, set the first place racer (at the front of the list) to last\n",
    "    place and vice versa.\n",
    "    \n",
    "    >>> r = [\"Mario\", \"Bowser\", \"Luigi\"]\n",
    "    >>> purple_shell(r)\n",
    "    >>> r\n",
    "    [\"Luigi\", \"Bowser\", \"Mario\"]\n",
    "    \"\"\"\n",
    "    first_racer=racers[-1]\n",
    "    last_racer=racers[0]\n",
    "    racers[0]=first_racer\n",
    "    racers[-1]=last_racer\n",
    "\n",
    "# Check your answer\n",
    "q3.check()"
   ]
  },
  {
   "cell_type": "code",
   "execution_count": 7,
   "id": "37220d0f",
   "metadata": {
    "execution": {
     "iopub.execute_input": "2022-08-28T08:47:50.625472Z",
     "iopub.status.busy": "2022-08-28T08:47:50.624646Z",
     "iopub.status.idle": "2022-08-28T08:47:50.632541Z",
     "shell.execute_reply": "2022-08-28T08:47:50.631658Z"
    },
    "papermill": {
     "duration": 0.017462,
     "end_time": "2022-08-28T08:47:50.634539",
     "exception": false,
     "start_time": "2022-08-28T08:47:50.617077",
     "status": "completed"
    },
    "tags": []
   },
   "outputs": [
    {
     "data": {
      "application/javascript": [
       "parent.postMessage({\"jupyterEvent\": \"custom.exercise_interaction\", \"data\": {\"interactionType\": 3, \"questionType\": 2, \"questionId\": \"3_PurpleShell\", \"learnToolsVersion\": \"0.3.4\", \"valueTowardsCompletion\": 0.0, \"failureMessage\": \"\", \"exceptionClass\": \"\", \"trace\": \"\", \"outcomeType\": 4}}, \"*\")"
      ],
      "text/plain": [
       "<IPython.core.display.Javascript object>"
      ]
     },
     "metadata": {},
     "output_type": "display_data"
    },
    {
     "data": {
      "text/markdown": [
       "<span style=\"color:#33cc99\">Solution:</span> \n",
       "```python\n",
       "def purple_shell(racers):\n",
       "    # One slick way to do the swap is x[0], x[-1] = x[-1], x[0].\n",
       "    temp = racers[0]\n",
       "    racers[0] = racers[-1]\n",
       "    racers[-1] = temp\n",
       "```"
      ],
      "text/plain": [
       "Solution: \n",
       "```python\n",
       "def purple_shell(racers):\n",
       "    # One slick way to do the swap is x[0], x[-1] = x[-1], x[0].\n",
       "    temp = racers[0]\n",
       "    racers[0] = racers[-1]\n",
       "    racers[-1] = temp\n",
       "```"
      ]
     },
     "metadata": {},
     "output_type": "display_data"
    }
   ],
   "source": [
    "#q3.hint()\n",
    "q3.solution()"
   ]
  },
  {
   "cell_type": "markdown",
   "id": "5c9e3a2d",
   "metadata": {
    "papermill": {
     "duration": 0.006126,
     "end_time": "2022-08-28T08:47:50.647078",
     "exception": false,
     "start_time": "2022-08-28T08:47:50.640952",
     "status": "completed"
    },
    "tags": []
   },
   "source": [
    "# 4.\n",
    "\n",
    "What are the lengths of the following lists? Fill in the variable `lengths` with your predictions. (Try to make a prediction for each list *without* just calling `len()` on it.)"
   ]
  },
  {
   "cell_type": "code",
   "execution_count": 8,
   "id": "15025f5f",
   "metadata": {
    "execution": {
     "iopub.execute_input": "2022-08-28T08:47:50.661924Z",
     "iopub.status.busy": "2022-08-28T08:47:50.661189Z",
     "iopub.status.idle": "2022-08-28T08:47:50.671034Z",
     "shell.execute_reply": "2022-08-28T08:47:50.670212Z"
    },
    "papermill": {
     "duration": 0.019479,
     "end_time": "2022-08-28T08:47:50.673013",
     "exception": false,
     "start_time": "2022-08-28T08:47:50.653534",
     "status": "completed"
    },
    "tags": []
   },
   "outputs": [
    {
     "data": {
      "application/javascript": [
       "parent.postMessage({\"jupyterEvent\": \"custom.exercise_interaction\", \"data\": {\"outcomeType\": 1, \"valueTowardsCompletion\": 0.2, \"interactionType\": 1, \"questionType\": 1, \"questionId\": \"4_UnderstandLen\", \"learnToolsVersion\": \"0.3.4\", \"failureMessage\": \"\", \"exceptionClass\": \"\", \"trace\": \"\"}}, \"*\")"
      ],
      "text/plain": [
       "<IPython.core.display.Javascript object>"
      ]
     },
     "metadata": {},
     "output_type": "display_data"
    },
    {
     "data": {
      "text/markdown": [
       "<span style=\"color:#33cc33\">Correct:</span> \n",
       "\n",
       "\n",
       "- a: There are three items in this list. Nothing tricky yet.\n",
       "- b: The list `[2, 3]` counts as a single item. It has one item before it. So we have 2 items in the list\n",
       "- c: The empty list has 0 items\n",
       "- d: The expression is the same as the list `[2, 3]`, which has length 2."
      ],
      "text/plain": [
       "Correct: \n",
       "\n",
       "\n",
       "- a: There are three items in this list. Nothing tricky yet.\n",
       "- b: The list `[2, 3]` counts as a single item. It has one item before it. So we have 2 items in the list\n",
       "- c: The empty list has 0 items\n",
       "- d: The expression is the same as the list `[2, 3]`, which has length 2."
      ]
     },
     "metadata": {},
     "output_type": "display_data"
    }
   ],
   "source": [
    "a = [1, 2, 3]\n",
    "b = [1, [2, 3]]\n",
    "c = []\n",
    "d = [1, 2, 3][1:]\n",
    "\n",
    "# Put your predictions in the list below. Lengths should contain 4 numbers, the\n",
    "# first being the length of a, the second being the length of b and so on.\n",
    "lengths = [3,2,0,2]\n",
    "\n",
    "# Check your answer\n",
    "q4.check()"
   ]
  },
  {
   "cell_type": "code",
   "execution_count": 9,
   "id": "3d62d89a",
   "metadata": {
    "execution": {
     "iopub.execute_input": "2022-08-28T08:47:50.689540Z",
     "iopub.status.busy": "2022-08-28T08:47:50.688548Z",
     "iopub.status.idle": "2022-08-28T08:47:50.693586Z",
     "shell.execute_reply": "2022-08-28T08:47:50.692272Z"
    },
    "papermill": {
     "duration": 0.015308,
     "end_time": "2022-08-28T08:47:50.695834",
     "exception": false,
     "start_time": "2022-08-28T08:47:50.680526",
     "status": "completed"
    },
    "tags": []
   },
   "outputs": [],
   "source": [
    "# line below provides some explanation\n",
    "#q4.solution()"
   ]
  },
  {
   "cell_type": "markdown",
   "id": "21de82a6",
   "metadata": {
    "papermill": {
     "duration": 0.006251,
     "end_time": "2022-08-28T08:47:50.708735",
     "exception": false,
     "start_time": "2022-08-28T08:47:50.702484",
     "status": "completed"
    },
    "tags": []
   },
   "source": [
    "# 5. <span title=\"A bit spicy\" style=\"color: darkgreen \">🌶️</span>\n",
    "\n",
    "We're using lists to record people who attended our party and what order they arrived in. For example, the following list represents a party with 7 guests, in which Adela showed up first and Ford was the last to arrive:\n",
    "\n",
    "    party_attendees = ['Adela', 'Fleda', 'Owen', 'May', 'Mona', 'Gilbert', 'Ford']\n",
    "\n",
    "A guest is considered 'fashionably late' if they arrived after at least half of the party's guests. However, they must not be the very last guest (that's taking it too far). In the above example, Mona and Gilbert are the only guests who were fashionably late.\n",
    "\n",
    "Complete the function below which takes a list of party attendees as well as a person, and tells us whether that person is fashionably late."
   ]
  },
  {
   "cell_type": "code",
   "execution_count": 10,
   "id": "e15a0ffc",
   "metadata": {
    "execution": {
     "iopub.execute_input": "2022-08-28T08:47:50.724071Z",
     "iopub.status.busy": "2022-08-28T08:47:50.723384Z",
     "iopub.status.idle": "2022-08-28T08:47:50.733391Z",
     "shell.execute_reply": "2022-08-28T08:47:50.732484Z"
    },
    "papermill": {
     "duration": 0.020583,
     "end_time": "2022-08-28T08:47:50.735783",
     "exception": false,
     "start_time": "2022-08-28T08:47:50.715200",
     "status": "completed"
    },
    "tags": []
   },
   "outputs": [
    {
     "data": {
      "application/javascript": [
       "parent.postMessage({\"jupyterEvent\": \"custom.exercise_interaction\", \"data\": {\"outcomeType\": 1, \"valueTowardsCompletion\": 0.2, \"interactionType\": 1, \"questionType\": 2, \"questionId\": \"5_FashionablyLate\", \"learnToolsVersion\": \"0.3.4\", \"failureMessage\": \"\", \"exceptionClass\": \"\", \"trace\": \"\"}}, \"*\")"
      ],
      "text/plain": [
       "<IPython.core.display.Javascript object>"
      ]
     },
     "metadata": {},
     "output_type": "display_data"
    },
    {
     "data": {
      "text/markdown": [
       "<span style=\"color:#33cc33\">Correct</span>"
      ],
      "text/plain": [
       "Correct"
      ]
     },
     "metadata": {},
     "output_type": "display_data"
    }
   ],
   "source": [
    "def fashionably_late(arrivals, name):\n",
    "    \"\"\"Given an ordered list of arrivals to the party and a name, return whether the guest with that\n",
    "    name was fashionably late.\n",
    "    \"\"\"\n",
    "    order = arrivals.index(name)\n",
    "    return order >= len(arrivals) / 2 and order != len(arrivals) - 1\n",
    "\n",
    "# Check your answer\n",
    "q5.check()"
   ]
  },
  {
   "cell_type": "code",
   "execution_count": 11,
   "id": "7f872036",
   "metadata": {
    "execution": {
     "iopub.execute_input": "2022-08-28T08:47:50.751551Z",
     "iopub.status.busy": "2022-08-28T08:47:50.750873Z",
     "iopub.status.idle": "2022-08-28T08:47:50.759087Z",
     "shell.execute_reply": "2022-08-28T08:47:50.758270Z"
    },
    "papermill": {
     "duration": 0.0184,
     "end_time": "2022-08-28T08:47:50.761141",
     "exception": false,
     "start_time": "2022-08-28T08:47:50.742741",
     "status": "completed"
    },
    "tags": []
   },
   "outputs": [
    {
     "data": {
      "application/javascript": [
       "parent.postMessage({\"jupyterEvent\": \"custom.exercise_interaction\", \"data\": {\"interactionType\": 3, \"questionType\": 2, \"questionId\": \"5_FashionablyLate\", \"learnToolsVersion\": \"0.3.4\", \"valueTowardsCompletion\": 0.0, \"failureMessage\": \"\", \"exceptionClass\": \"\", \"trace\": \"\", \"outcomeType\": 4}}, \"*\")"
      ],
      "text/plain": [
       "<IPython.core.display.Javascript object>"
      ]
     },
     "metadata": {},
     "output_type": "display_data"
    },
    {
     "data": {
      "text/markdown": [
       "<span style=\"color:#33cc99\">Solution:</span> \n",
       "```python\n",
       "def fashionably_late(arrivals, name):\n",
       "    order = arrivals.index(name)\n",
       "    return order >= len(arrivals) / 2 and order != len(arrivals) - 1\n",
       "```"
      ],
      "text/plain": [
       "Solution: \n",
       "```python\n",
       "def fashionably_late(arrivals, name):\n",
       "    order = arrivals.index(name)\n",
       "    return order >= len(arrivals) / 2 and order != len(arrivals) - 1\n",
       "```"
      ]
     },
     "metadata": {},
     "output_type": "display_data"
    }
   ],
   "source": [
    "#q5.hint()\n",
    "q5.solution()"
   ]
  },
  {
   "cell_type": "markdown",
   "id": "3fb4d7af",
   "metadata": {
    "papermill": {
     "duration": 0.006962,
     "end_time": "2022-08-28T08:47:50.775313",
     "exception": false,
     "start_time": "2022-08-28T08:47:50.768351",
     "status": "completed"
    },
    "tags": []
   },
   "source": [
    "# Keep Going\n",
    "\n",
    "That's it for lists and tuples! Now you have the baseline knowledge to **[learn about loops](https://www.kaggle.com/colinmorris/loops-and-list-comprehensions)**, which is where lists and tuples get really interesting. "
   ]
  },
  {
   "cell_type": "markdown",
   "id": "f7cc305a",
   "metadata": {
    "papermill": {
     "duration": 0.006839,
     "end_time": "2022-08-28T08:47:50.789262",
     "exception": false,
     "start_time": "2022-08-28T08:47:50.782423",
     "status": "completed"
    },
    "tags": []
   },
   "source": [
    "---\n",
    "\n",
    "\n",
    "\n",
    "\n",
    "*Have questions or comments? Visit the [course discussion forum](https://www.kaggle.com/learn/python/discussion) to chat with other learners.*"
   ]
  }
 ],
 "metadata": {
  "kernelspec": {
   "display_name": "Python 3",
   "language": "python",
   "name": "python3"
  },
  "language_info": {
   "codemirror_mode": {
    "name": "ipython",
    "version": 3
   },
   "file_extension": ".py",
   "mimetype": "text/x-python",
   "name": "python",
   "nbconvert_exporter": "python",
   "pygments_lexer": "ipython3",
   "version": "3.7.12"
  },
  "papermill": {
   "default_parameters": {},
   "duration": 11.402363,
   "end_time": "2022-08-28T08:47:51.417954",
   "environment_variables": {},
   "exception": null,
   "input_path": "__notebook__.ipynb",
   "output_path": "__notebook__.ipynb",
   "parameters": {},
   "start_time": "2022-08-28T08:47:40.015591",
   "version": "2.3.4"
  }
 },
 "nbformat": 4,
 "nbformat_minor": 5
}
